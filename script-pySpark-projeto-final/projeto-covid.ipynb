{
 "cells": [
  {
   "cell_type": "code",
   "execution_count": 1,
   "metadata": {},
   "outputs": [],
   "source": [
    "from pyspark.sql.types import *\n",
    "from pyspark.sql.functions import *"
   ]
  },
  {
   "cell_type": "code",
   "execution_count": null,
   "metadata": {},
   "outputs": [],
   "source": [
    "!hdfs dfs -cat /input/covid-data/HIST_PAINEL_COVIDBR_2020_Parte1_06jul2021.csv"
   ]
  },
  {
   "cell_type": "code",
   "execution_count": 6,
   "metadata": {},
   "outputs": [
    {
     "name": "stdout",
     "output_type": "stream",
     "text": [
      "Found 4 items\r\n",
      "-rw-r--r--   3 root supergroup   62492959 2022-08-07 00:12 /user/elvis/projeto-covid/spark/HIST_PAINEL_COVIDBR_2020_Parte1_06jul2021.csv\r\n",
      "-rw-r--r--   3 root supergroup   76520681 2022-08-07 00:13 /user/elvis/projeto-covid/spark/HIST_PAINEL_COVIDBR_2020_Parte2_06jul2021.csv\r\n",
      "-rw-r--r--   3 root supergroup   91120916 2022-08-07 00:13 /user/elvis/projeto-covid/spark/HIST_PAINEL_COVIDBR_2021_Parte1_06jul2021.csv\r\n",
      "-rw-r--r--   3 root supergroup    3046774 2022-08-07 00:13 /user/elvis/projeto-covid/spark/HIST_PAINEL_COVIDBR_2021_Parte2_06jul2021.csv\r\n"
     ]
    }
   ],
   "source": [
    "!hdfs dfs -ls /user/elvis/projeto-covid/spark"
   ]
  },
  {
   "cell_type": "code",
   "execution_count": 2,
   "metadata": {},
   "outputs": [],
   "source": [
    "df_2020_Parte1 = spark.read.csv('/user/elvis/projeto-covid/spark/HIST_PAINEL_COVIDBR_2020_Parte1_06jul2021.csv', sep=';', header=True)"
   ]
  },
  {
   "cell_type": "code",
   "execution_count": 3,
   "metadata": {},
   "outputs": [
    {
     "data": {
      "text/plain": [
       "['regiao',\n",
       " 'estado',\n",
       " 'municipio',\n",
       " 'coduf',\n",
       " 'codmun',\n",
       " 'codRegiaoSaude',\n",
       " 'nomeRegiaoSaude',\n",
       " 'data',\n",
       " 'semanaEpi',\n",
       " 'populacaoTCU2019',\n",
       " 'casosAcumulado',\n",
       " 'casosNovos',\n",
       " 'obitosAcumulado',\n",
       " 'obitosNovos',\n",
       " 'Recuperadosnovos',\n",
       " 'emAcompanhamentoNovos',\n",
       " 'interior/metropolitana']"
      ]
     },
     "execution_count": 3,
     "metadata": {},
     "output_type": "execute_result"
    }
   ],
   "source": [
    "df_2020_Parte1.columns"
   ]
  },
  {
   "cell_type": "code",
   "execution_count": 4,
   "metadata": {},
   "outputs": [
    {
     "data": {
      "text/plain": [
       "714481"
      ]
     },
     "execution_count": 4,
     "metadata": {},
     "output_type": "execute_result"
    }
   ],
   "source": [
    "df_2020_Parte1.count()"
   ]
  },
  {
   "cell_type": "code",
   "execution_count": 5,
   "metadata": {},
   "outputs": [],
   "source": [
    "df_2020_Parte2 = spark.read.csv('/user/elvis/projeto-covid/spark/HIST_PAINEL_COVIDBR_2020_Parte2_06jul2021.csv', sep=';', header=True)"
   ]
  },
  {
   "cell_type": "code",
   "execution_count": 6,
   "metadata": {},
   "outputs": [
    {
     "data": {
      "text/plain": [
       "859708"
      ]
     },
     "execution_count": 6,
     "metadata": {},
     "output_type": "execute_result"
    }
   ],
   "source": [
    "df_2020_Parte2.count()"
   ]
  },
  {
   "cell_type": "code",
   "execution_count": 7,
   "metadata": {},
   "outputs": [],
   "source": [
    "df_2021_Parte1 = spark.read.csv('/user/elvis/projeto-covid/spark/HIST_PAINEL_COVIDBR_2021_Parte1_06jul2021.csv', sep=';', header=True)"
   ]
  },
  {
   "cell_type": "code",
   "execution_count": 8,
   "metadata": {},
   "outputs": [
    {
     "data": {
      "text/plain": [
       "['regiao',\n",
       " 'estado',\n",
       " 'municipio',\n",
       " 'coduf',\n",
       " 'codmun',\n",
       " 'codRegiaoSaude',\n",
       " 'nomeRegiaoSaude',\n",
       " 'data',\n",
       " 'semanaEpi',\n",
       " 'populacaoTCU2019',\n",
       " 'casosAcumulado',\n",
       " 'casosNovos',\n",
       " 'obitosAcumulado',\n",
       " 'obitosNovos',\n",
       " 'Recuperadosnovos',\n",
       " 'emAcompanhamentoNovos',\n",
       " 'interior/metropolitana']"
      ]
     },
     "execution_count": 8,
     "metadata": {},
     "output_type": "execute_result"
    }
   ],
   "source": [
    "df_2021_Parte1.columns"
   ]
  },
  {
   "cell_type": "code",
   "execution_count": 9,
   "metadata": {},
   "outputs": [
    {
     "data": {
      "text/plain": [
       "1017040"
      ]
     },
     "execution_count": 9,
     "metadata": {},
     "output_type": "execute_result"
    }
   ],
   "source": [
    "df_2021_Parte1.count()"
   ]
  },
  {
   "cell_type": "code",
   "execution_count": 10,
   "metadata": {},
   "outputs": [],
   "source": [
    "df_2021_Parte2 = spark.read.csv('/user/elvis/projeto-covid/spark/HIST_PAINEL_COVIDBR_2021_Parte2_06jul2021.csv', sep=';', header=True)"
   ]
  },
  {
   "cell_type": "code",
   "execution_count": 11,
   "metadata": {},
   "outputs": [
    {
     "data": {
      "text/plain": [
       "33714"
      ]
     },
     "execution_count": 11,
     "metadata": {},
     "output_type": "execute_result"
    }
   ],
   "source": [
    "df_2021_Parte2.count()"
   ]
  },
  {
   "cell_type": "code",
   "execution_count": 12,
   "metadata": {},
   "outputs": [
    {
     "data": {
      "text/plain": [
       "['regiao',\n",
       " 'estado',\n",
       " 'municipio',\n",
       " 'coduf',\n",
       " 'codmun',\n",
       " 'codRegiaoSaude',\n",
       " 'nomeRegiaoSaude',\n",
       " 'data',\n",
       " 'semanaEpi',\n",
       " 'populacaoTCU2019',\n",
       " 'casosAcumulado',\n",
       " 'casosNovos',\n",
       " 'obitosAcumulado',\n",
       " 'obitosNovos',\n",
       " 'Recuperadosnovos',\n",
       " 'emAcompanhamentoNovos',\n",
       " 'interior/metropolitana']"
      ]
     },
     "execution_count": 12,
     "metadata": {},
     "output_type": "execute_result"
    }
   ],
   "source": [
    "df_2021_Parte2.columns"
   ]
  },
  {
   "cell_type": "code",
   "execution_count": 13,
   "metadata": {},
   "outputs": [
    {
     "data": {
      "text/plain": [
       "2624943"
      ]
     },
     "execution_count": 13,
     "metadata": {},
     "output_type": "execute_result"
    }
   ],
   "source": [
    "33714 + 1017040 + 859708 + 714481"
   ]
  },
  {
   "cell_type": "code",
   "execution_count": 14,
   "metadata": {},
   "outputs": [
    {
     "data": {
      "text/html": [
       "<div>\n",
       "<style scoped>\n",
       "    .dataframe tbody tr th:only-of-type {\n",
       "        vertical-align: middle;\n",
       "    }\n",
       "\n",
       "    .dataframe tbody tr th {\n",
       "        vertical-align: top;\n",
       "    }\n",
       "\n",
       "    .dataframe thead th {\n",
       "        text-align: right;\n",
       "    }\n",
       "</style>\n",
       "<table border=\"1\" class=\"dataframe\">\n",
       "  <thead>\n",
       "    <tr style=\"text-align: right;\">\n",
       "      <th></th>\n",
       "      <th>regiao</th>\n",
       "      <th>estado</th>\n",
       "      <th>municipio</th>\n",
       "      <th>coduf</th>\n",
       "      <th>codmun</th>\n",
       "      <th>codRegiaoSaude</th>\n",
       "      <th>nomeRegiaoSaude</th>\n",
       "      <th>data</th>\n",
       "      <th>semanaEpi</th>\n",
       "      <th>populacaoTCU2019</th>\n",
       "      <th>casosAcumulado</th>\n",
       "      <th>casosNovos</th>\n",
       "      <th>obitosAcumulado</th>\n",
       "      <th>obitosNovos</th>\n",
       "      <th>Recuperadosnovos</th>\n",
       "      <th>emAcompanhamentoNovos</th>\n",
       "      <th>interior/metropolitana</th>\n",
       "    </tr>\n",
       "  </thead>\n",
       "  <tbody>\n",
       "    <tr>\n",
       "      <th>0</th>\n",
       "      <td>Brasil</td>\n",
       "      <td>None</td>\n",
       "      <td>None</td>\n",
       "      <td>76</td>\n",
       "      <td>None</td>\n",
       "      <td>None</td>\n",
       "      <td>None</td>\n",
       "      <td>2020-02-25</td>\n",
       "      <td>9</td>\n",
       "      <td>210147125</td>\n",
       "      <td>0</td>\n",
       "      <td>0</td>\n",
       "      <td>0</td>\n",
       "      <td>0</td>\n",
       "      <td>None</td>\n",
       "      <td>None</td>\n",
       "      <td>None</td>\n",
       "    </tr>\n",
       "    <tr>\n",
       "      <th>1</th>\n",
       "      <td>Brasil</td>\n",
       "      <td>None</td>\n",
       "      <td>None</td>\n",
       "      <td>76</td>\n",
       "      <td>None</td>\n",
       "      <td>None</td>\n",
       "      <td>None</td>\n",
       "      <td>2020-02-26</td>\n",
       "      <td>9</td>\n",
       "      <td>210147125</td>\n",
       "      <td>1</td>\n",
       "      <td>1</td>\n",
       "      <td>0</td>\n",
       "      <td>0</td>\n",
       "      <td>None</td>\n",
       "      <td>None</td>\n",
       "      <td>None</td>\n",
       "    </tr>\n",
       "    <tr>\n",
       "      <th>2</th>\n",
       "      <td>Brasil</td>\n",
       "      <td>None</td>\n",
       "      <td>None</td>\n",
       "      <td>76</td>\n",
       "      <td>None</td>\n",
       "      <td>None</td>\n",
       "      <td>None</td>\n",
       "      <td>2020-02-27</td>\n",
       "      <td>9</td>\n",
       "      <td>210147125</td>\n",
       "      <td>1</td>\n",
       "      <td>0</td>\n",
       "      <td>0</td>\n",
       "      <td>0</td>\n",
       "      <td>None</td>\n",
       "      <td>None</td>\n",
       "      <td>None</td>\n",
       "    </tr>\n",
       "    <tr>\n",
       "      <th>3</th>\n",
       "      <td>Brasil</td>\n",
       "      <td>None</td>\n",
       "      <td>None</td>\n",
       "      <td>76</td>\n",
       "      <td>None</td>\n",
       "      <td>None</td>\n",
       "      <td>None</td>\n",
       "      <td>2020-02-28</td>\n",
       "      <td>9</td>\n",
       "      <td>210147125</td>\n",
       "      <td>1</td>\n",
       "      <td>0</td>\n",
       "      <td>0</td>\n",
       "      <td>0</td>\n",
       "      <td>None</td>\n",
       "      <td>None</td>\n",
       "      <td>None</td>\n",
       "    </tr>\n",
       "  </tbody>\n",
       "</table>\n",
       "</div>"
      ],
      "text/plain": [
       "   regiao estado municipio coduf codmun codRegiaoSaude nomeRegiaoSaude  \\\n",
       "0  Brasil   None      None    76   None           None            None   \n",
       "1  Brasil   None      None    76   None           None            None   \n",
       "2  Brasil   None      None    76   None           None            None   \n",
       "3  Brasil   None      None    76   None           None            None   \n",
       "\n",
       "         data semanaEpi populacaoTCU2019 casosAcumulado casosNovos  \\\n",
       "0  2020-02-25         9        210147125              0          0   \n",
       "1  2020-02-26         9        210147125              1          1   \n",
       "2  2020-02-27         9        210147125              1          0   \n",
       "3  2020-02-28         9        210147125              1          0   \n",
       "\n",
       "  obitosAcumulado obitosNovos Recuperadosnovos emAcompanhamentoNovos  \\\n",
       "0               0           0             None                  None   \n",
       "1               0           0             None                  None   \n",
       "2               0           0             None                  None   \n",
       "3               0           0             None                  None   \n",
       "\n",
       "  interior/metropolitana  \n",
       "0                   None  \n",
       "1                   None  \n",
       "2                   None  \n",
       "3                   None  "
      ]
     },
     "execution_count": 14,
     "metadata": {},
     "output_type": "execute_result"
    }
   ],
   "source": [
    "df_2020_Parte1.limit(4).toPandas()"
   ]
  },
  {
   "cell_type": "code",
   "execution_count": 16,
   "metadata": {},
   "outputs": [
    {
     "data": {
      "text/html": [
       "<div>\n",
       "<style scoped>\n",
       "    .dataframe tbody tr th:only-of-type {\n",
       "        vertical-align: middle;\n",
       "    }\n",
       "\n",
       "    .dataframe tbody tr th {\n",
       "        vertical-align: top;\n",
       "    }\n",
       "\n",
       "    .dataframe thead th {\n",
       "        text-align: right;\n",
       "    }\n",
       "</style>\n",
       "<table border=\"1\" class=\"dataframe\">\n",
       "  <thead>\n",
       "    <tr style=\"text-align: right;\">\n",
       "      <th></th>\n",
       "      <th>regiao</th>\n",
       "      <th>estado</th>\n",
       "      <th>municipio</th>\n",
       "      <th>coduf</th>\n",
       "      <th>codmun</th>\n",
       "      <th>codRegiaoSaude</th>\n",
       "      <th>nomeRegiaoSaude</th>\n",
       "      <th>data</th>\n",
       "      <th>semanaEpi</th>\n",
       "      <th>populacaoTCU2019</th>\n",
       "      <th>casosAcumulado</th>\n",
       "      <th>casosNovos</th>\n",
       "      <th>obitosAcumulado</th>\n",
       "      <th>obitosNovos</th>\n",
       "      <th>Recuperadosnovos</th>\n",
       "      <th>emAcompanhamentoNovos</th>\n",
       "      <th>interior/metropolitana</th>\n",
       "    </tr>\n",
       "  </thead>\n",
       "  <tbody>\n",
       "    <tr>\n",
       "      <th>0</th>\n",
       "      <td>Norte</td>\n",
       "      <td>RO</td>\n",
       "      <td>Alta Floresta D'Oeste</td>\n",
       "      <td>11</td>\n",
       "      <td>110001</td>\n",
       "      <td>11005</td>\n",
       "      <td>ZONA DA MATA</td>\n",
       "      <td>2020-03-27</td>\n",
       "      <td>13</td>\n",
       "      <td>22945</td>\n",
       "      <td>0</td>\n",
       "      <td>0</td>\n",
       "      <td>0</td>\n",
       "      <td>0</td>\n",
       "      <td>None</td>\n",
       "      <td>None</td>\n",
       "      <td>0</td>\n",
       "    </tr>\n",
       "    <tr>\n",
       "      <th>1</th>\n",
       "      <td>Norte</td>\n",
       "      <td>RO</td>\n",
       "      <td>Alta Floresta D'Oeste</td>\n",
       "      <td>11</td>\n",
       "      <td>110001</td>\n",
       "      <td>11005</td>\n",
       "      <td>ZONA DA MATA</td>\n",
       "      <td>2020-03-28</td>\n",
       "      <td>13</td>\n",
       "      <td>22945</td>\n",
       "      <td>0</td>\n",
       "      <td>0</td>\n",
       "      <td>0</td>\n",
       "      <td>0</td>\n",
       "      <td>None</td>\n",
       "      <td>None</td>\n",
       "      <td>0</td>\n",
       "    </tr>\n",
       "    <tr>\n",
       "      <th>2</th>\n",
       "      <td>Norte</td>\n",
       "      <td>RO</td>\n",
       "      <td>Alta Floresta D'Oeste</td>\n",
       "      <td>11</td>\n",
       "      <td>110001</td>\n",
       "      <td>11005</td>\n",
       "      <td>ZONA DA MATA</td>\n",
       "      <td>2020-03-29</td>\n",
       "      <td>14</td>\n",
       "      <td>22945</td>\n",
       "      <td>0</td>\n",
       "      <td>0</td>\n",
       "      <td>0</td>\n",
       "      <td>0</td>\n",
       "      <td>None</td>\n",
       "      <td>None</td>\n",
       "      <td>0</td>\n",
       "    </tr>\n",
       "    <tr>\n",
       "      <th>3</th>\n",
       "      <td>Norte</td>\n",
       "      <td>RO</td>\n",
       "      <td>Alta Floresta D'Oeste</td>\n",
       "      <td>11</td>\n",
       "      <td>110001</td>\n",
       "      <td>11005</td>\n",
       "      <td>ZONA DA MATA</td>\n",
       "      <td>2020-03-30</td>\n",
       "      <td>14</td>\n",
       "      <td>22945</td>\n",
       "      <td>0</td>\n",
       "      <td>0</td>\n",
       "      <td>0</td>\n",
       "      <td>0</td>\n",
       "      <td>None</td>\n",
       "      <td>None</td>\n",
       "      <td>0</td>\n",
       "    </tr>\n",
       "    <tr>\n",
       "      <th>4</th>\n",
       "      <td>Norte</td>\n",
       "      <td>RO</td>\n",
       "      <td>Alta Floresta D'Oeste</td>\n",
       "      <td>11</td>\n",
       "      <td>110001</td>\n",
       "      <td>11005</td>\n",
       "      <td>ZONA DA MATA</td>\n",
       "      <td>2020-03-31</td>\n",
       "      <td>14</td>\n",
       "      <td>22945</td>\n",
       "      <td>0</td>\n",
       "      <td>0</td>\n",
       "      <td>0</td>\n",
       "      <td>0</td>\n",
       "      <td>None</td>\n",
       "      <td>None</td>\n",
       "      <td>0</td>\n",
       "    </tr>\n",
       "  </tbody>\n",
       "</table>\n",
       "</div>"
      ],
      "text/plain": [
       "  regiao estado              municipio coduf  codmun codRegiaoSaude  \\\n",
       "0  Norte     RO  Alta Floresta D'Oeste    11  110001          11005   \n",
       "1  Norte     RO  Alta Floresta D'Oeste    11  110001          11005   \n",
       "2  Norte     RO  Alta Floresta D'Oeste    11  110001          11005   \n",
       "3  Norte     RO  Alta Floresta D'Oeste    11  110001          11005   \n",
       "4  Norte     RO  Alta Floresta D'Oeste    11  110001          11005   \n",
       "\n",
       "  nomeRegiaoSaude        data semanaEpi populacaoTCU2019 casosAcumulado  \\\n",
       "0    ZONA DA MATA  2020-03-27        13            22945              0   \n",
       "1    ZONA DA MATA  2020-03-28        13            22945              0   \n",
       "2    ZONA DA MATA  2020-03-29        14            22945              0   \n",
       "3    ZONA DA MATA  2020-03-30        14            22945              0   \n",
       "4    ZONA DA MATA  2020-03-31        14            22945              0   \n",
       "\n",
       "  casosNovos obitosAcumulado obitosNovos Recuperadosnovos  \\\n",
       "0          0               0           0             None   \n",
       "1          0               0           0             None   \n",
       "2          0               0           0             None   \n",
       "3          0               0           0             None   \n",
       "4          0               0           0             None   \n",
       "\n",
       "  emAcompanhamentoNovos interior/metropolitana  \n",
       "0                  None                      0  \n",
       "1                  None                      0  \n",
       "2                  None                      0  \n",
       "3                  None                      0  \n",
       "4                  None                      0  "
      ]
     },
     "execution_count": 16,
     "metadata": {},
     "output_type": "execute_result"
    }
   ],
   "source": [
    "df_2020_Parte1.filter(col('municipio') != 'None').limit(5).toPandas()"
   ]
  },
  {
   "cell_type": "code",
   "execution_count": 1,
   "metadata": {},
   "outputs": [],
   "source": [
    "schema = 'regiao STRING, estado STRING, municipio STRING, coduf STRING, codmun STRING, codRegiaoSaude STRING, nomeRegiaoSaude STRING, data STRING, semanaEpi INT, populacaoTCU2019 BIGINT, casosAcumulado BIGINT, casosNovos BIGINT, obitosAcumulado BIGINT, obitosNovos BIGINT, Recuperadosnovos BIGINT, emAcompanhamentoNovos BIGINT, interior/metropolitana BIGINT'"
   ]
  },
  {
   "cell_type": "code",
   "execution_count": 2,
   "metadata": {},
   "outputs": [],
   "source": [
    "raw_path = '/user/elvis/projeto-covid/spark'"
   ]
  },
  {
   "cell_type": "code",
   "execution_count": 3,
   "metadata": {},
   "outputs": [],
   "source": [
    "stage_path = '/user/elvis/projeto-covid/stage'"
   ]
  },
  {
   "cell_type": "code",
   "execution_count": 4,
   "metadata": {},
   "outputs": [],
   "source": [
    "options_dic = {\n",
    "    'sep' : ';',\n",
    "    'header' : 'True',\n",
    "    'schema' : 'schema',\n",
    "    'encoding' : 'UTF-8'\n",
    "}\n",
    "\n",
    "df_covid = (\n",
    "    spark.read\n",
    "    .format('csv')\n",
    "    .options(**options_dic)\n",
    "    .load(raw_path)\n",
    ")"
   ]
  },
  {
   "cell_type": "code",
   "execution_count": 5,
   "metadata": {},
   "outputs": [
    {
     "data": {
      "text/html": [
       "<div>\n",
       "<style scoped>\n",
       "    .dataframe tbody tr th:only-of-type {\n",
       "        vertical-align: middle;\n",
       "    }\n",
       "\n",
       "    .dataframe tbody tr th {\n",
       "        vertical-align: top;\n",
       "    }\n",
       "\n",
       "    .dataframe thead th {\n",
       "        text-align: right;\n",
       "    }\n",
       "</style>\n",
       "<table border=\"1\" class=\"dataframe\">\n",
       "  <thead>\n",
       "    <tr style=\"text-align: right;\">\n",
       "      <th></th>\n",
       "      <th>regiao</th>\n",
       "      <th>estado</th>\n",
       "      <th>municipio</th>\n",
       "      <th>coduf</th>\n",
       "      <th>codmun</th>\n",
       "      <th>codRegiaoSaude</th>\n",
       "      <th>nomeRegiaoSaude</th>\n",
       "      <th>data</th>\n",
       "      <th>semanaEpi</th>\n",
       "      <th>populacaoTCU2019</th>\n",
       "      <th>casosAcumulado</th>\n",
       "      <th>casosNovos</th>\n",
       "      <th>obitosAcumulado</th>\n",
       "      <th>obitosNovos</th>\n",
       "      <th>Recuperadosnovos</th>\n",
       "      <th>emAcompanhamentoNovos</th>\n",
       "      <th>interior/metropolitana</th>\n",
       "    </tr>\n",
       "  </thead>\n",
       "  <tbody>\n",
       "    <tr>\n",
       "      <th>0</th>\n",
       "      <td>Brasil</td>\n",
       "      <td>None</td>\n",
       "      <td>None</td>\n",
       "      <td>76</td>\n",
       "      <td>None</td>\n",
       "      <td>None</td>\n",
       "      <td>None</td>\n",
       "      <td>2021-01-01</td>\n",
       "      <td>53</td>\n",
       "      <td>210147125</td>\n",
       "      <td>7700578</td>\n",
       "      <td>24605</td>\n",
       "      <td>195411</td>\n",
       "      <td>462</td>\n",
       "      <td>6756284</td>\n",
       "      <td>748883</td>\n",
       "      <td>None</td>\n",
       "    </tr>\n",
       "    <tr>\n",
       "      <th>1</th>\n",
       "      <td>Brasil</td>\n",
       "      <td>None</td>\n",
       "      <td>None</td>\n",
       "      <td>76</td>\n",
       "      <td>None</td>\n",
       "      <td>None</td>\n",
       "      <td>None</td>\n",
       "      <td>2021-01-02</td>\n",
       "      <td>53</td>\n",
       "      <td>210147125</td>\n",
       "      <td>7716405</td>\n",
       "      <td>15827</td>\n",
       "      <td>195725</td>\n",
       "      <td>314</td>\n",
       "      <td>6769420</td>\n",
       "      <td>751260</td>\n",
       "      <td>None</td>\n",
       "    </tr>\n",
       "    <tr>\n",
       "      <th>2</th>\n",
       "      <td>Brasil</td>\n",
       "      <td>None</td>\n",
       "      <td>None</td>\n",
       "      <td>76</td>\n",
       "      <td>None</td>\n",
       "      <td>None</td>\n",
       "      <td>None</td>\n",
       "      <td>2021-01-03</td>\n",
       "      <td>1</td>\n",
       "      <td>210147125</td>\n",
       "      <td>7733746</td>\n",
       "      <td>17341</td>\n",
       "      <td>196018</td>\n",
       "      <td>293</td>\n",
       "      <td>6813008</td>\n",
       "      <td>724720</td>\n",
       "      <td>None</td>\n",
       "    </tr>\n",
       "    <tr>\n",
       "      <th>3</th>\n",
       "      <td>Brasil</td>\n",
       "      <td>None</td>\n",
       "      <td>None</td>\n",
       "      <td>76</td>\n",
       "      <td>None</td>\n",
       "      <td>None</td>\n",
       "      <td>None</td>\n",
       "      <td>2021-01-04</td>\n",
       "      <td>1</td>\n",
       "      <td>210147125</td>\n",
       "      <td>7753752</td>\n",
       "      <td>20006</td>\n",
       "      <td>196561</td>\n",
       "      <td>543</td>\n",
       "      <td>6875230</td>\n",
       "      <td>681961</td>\n",
       "      <td>None</td>\n",
       "    </tr>\n",
       "    <tr>\n",
       "      <th>4</th>\n",
       "      <td>Brasil</td>\n",
       "      <td>None</td>\n",
       "      <td>None</td>\n",
       "      <td>76</td>\n",
       "      <td>None</td>\n",
       "      <td>None</td>\n",
       "      <td>None</td>\n",
       "      <td>2021-01-05</td>\n",
       "      <td>1</td>\n",
       "      <td>210147125</td>\n",
       "      <td>7810400</td>\n",
       "      <td>56648</td>\n",
       "      <td>197732</td>\n",
       "      <td>1171</td>\n",
       "      <td>6963407</td>\n",
       "      <td>649261</td>\n",
       "      <td>None</td>\n",
       "    </tr>\n",
       "  </tbody>\n",
       "</table>\n",
       "</div>"
      ],
      "text/plain": [
       "   regiao estado municipio coduf codmun codRegiaoSaude nomeRegiaoSaude  \\\n",
       "0  Brasil   None      None    76   None           None            None   \n",
       "1  Brasil   None      None    76   None           None            None   \n",
       "2  Brasil   None      None    76   None           None            None   \n",
       "3  Brasil   None      None    76   None           None            None   \n",
       "4  Brasil   None      None    76   None           None            None   \n",
       "\n",
       "         data semanaEpi populacaoTCU2019 casosAcumulado casosNovos  \\\n",
       "0  2021-01-01        53        210147125        7700578      24605   \n",
       "1  2021-01-02        53        210147125        7716405      15827   \n",
       "2  2021-01-03         1        210147125        7733746      17341   \n",
       "3  2021-01-04         1        210147125        7753752      20006   \n",
       "4  2021-01-05         1        210147125        7810400      56648   \n",
       "\n",
       "  obitosAcumulado obitosNovos Recuperadosnovos emAcompanhamentoNovos  \\\n",
       "0          195411         462          6756284                748883   \n",
       "1          195725         314          6769420                751260   \n",
       "2          196018         293          6813008                724720   \n",
       "3          196561         543          6875230                681961   \n",
       "4          197732        1171          6963407                649261   \n",
       "\n",
       "  interior/metropolitana  \n",
       "0                   None  \n",
       "1                   None  \n",
       "2                   None  \n",
       "3                   None  \n",
       "4                   None  "
      ]
     },
     "execution_count": 5,
     "metadata": {},
     "output_type": "execute_result"
    }
   ],
   "source": [
    "df_covid.limit(5).toPandas()"
   ]
  },
  {
   "cell_type": "code",
   "execution_count": 21,
   "metadata": {},
   "outputs": [
    {
     "data": {
      "text/plain": [
       "2624943"
      ]
     },
     "execution_count": 21,
     "metadata": {},
     "output_type": "execute_result"
    }
   ],
   "source": [
    "df_covid.count()"
   ]
  },
  {
   "cell_type": "code",
   "execution_count": 22,
   "metadata": {},
   "outputs": [
    {
     "data": {
      "text/html": [
       "<div>\n",
       "<style scoped>\n",
       "    .dataframe tbody tr th:only-of-type {\n",
       "        vertical-align: middle;\n",
       "    }\n",
       "\n",
       "    .dataframe tbody tr th {\n",
       "        vertical-align: top;\n",
       "    }\n",
       "\n",
       "    .dataframe thead th {\n",
       "        text-align: right;\n",
       "    }\n",
       "</style>\n",
       "<table border=\"1\" class=\"dataframe\">\n",
       "  <thead>\n",
       "    <tr style=\"text-align: right;\">\n",
       "      <th></th>\n",
       "      <th>regiao</th>\n",
       "    </tr>\n",
       "  </thead>\n",
       "  <tbody>\n",
       "    <tr>\n",
       "      <th>0</th>\n",
       "      <td>Nordeste</td>\n",
       "    </tr>\n",
       "    <tr>\n",
       "      <th>1</th>\n",
       "      <td>Sul</td>\n",
       "    </tr>\n",
       "    <tr>\n",
       "      <th>2</th>\n",
       "      <td>Sudeste</td>\n",
       "    </tr>\n",
       "    <tr>\n",
       "      <th>3</th>\n",
       "      <td>Centro-Oeste</td>\n",
       "    </tr>\n",
       "    <tr>\n",
       "      <th>4</th>\n",
       "      <td>Brasil</td>\n",
       "    </tr>\n",
       "    <tr>\n",
       "      <th>5</th>\n",
       "      <td>Norte</td>\n",
       "    </tr>\n",
       "  </tbody>\n",
       "</table>\n",
       "</div>"
      ],
      "text/plain": [
       "         regiao\n",
       "0      Nordeste\n",
       "1           Sul\n",
       "2       Sudeste\n",
       "3  Centro-Oeste\n",
       "4        Brasil\n",
       "5         Norte"
      ]
     },
     "execution_count": 22,
     "metadata": {},
     "output_type": "execute_result"
    }
   ],
   "source": [
    "df_covid.select('regiao').distinct().limit(50).toPandas()"
   ]
  },
  {
   "cell_type": "code",
   "execution_count": 23,
   "metadata": {},
   "outputs": [
    {
     "data": {
      "text/html": [
       "<div>\n",
       "<style scoped>\n",
       "    .dataframe tbody tr th:only-of-type {\n",
       "        vertical-align: middle;\n",
       "    }\n",
       "\n",
       "    .dataframe tbody tr th {\n",
       "        vertical-align: top;\n",
       "    }\n",
       "\n",
       "    .dataframe thead th {\n",
       "        text-align: right;\n",
       "    }\n",
       "</style>\n",
       "<table border=\"1\" class=\"dataframe\">\n",
       "  <thead>\n",
       "    <tr style=\"text-align: right;\">\n",
       "      <th></th>\n",
       "      <th>regiao</th>\n",
       "      <th>count</th>\n",
       "    </tr>\n",
       "  </thead>\n",
       "  <tbody>\n",
       "    <tr>\n",
       "      <th>0</th>\n",
       "      <td>Nordeste</td>\n",
       "      <td>846483</td>\n",
       "    </tr>\n",
       "    <tr>\n",
       "      <th>1</th>\n",
       "      <td>Sul</td>\n",
       "      <td>559092</td>\n",
       "    </tr>\n",
       "    <tr>\n",
       "      <th>2</th>\n",
       "      <td>Sudeste</td>\n",
       "      <td>782816</td>\n",
       "    </tr>\n",
       "    <tr>\n",
       "      <th>3</th>\n",
       "      <td>Centro-Oeste</td>\n",
       "      <td>221015</td>\n",
       "    </tr>\n",
       "    <tr>\n",
       "      <th>4</th>\n",
       "      <td>Brasil</td>\n",
       "      <td>500</td>\n",
       "    </tr>\n",
       "    <tr>\n",
       "      <th>5</th>\n",
       "      <td>Norte</td>\n",
       "      <td>215037</td>\n",
       "    </tr>\n",
       "  </tbody>\n",
       "</table>\n",
       "</div>"
      ],
      "text/plain": [
       "         regiao   count\n",
       "0      Nordeste  846483\n",
       "1           Sul  559092\n",
       "2       Sudeste  782816\n",
       "3  Centro-Oeste  221015\n",
       "4        Brasil     500\n",
       "5         Norte  215037"
      ]
     },
     "execution_count": 23,
     "metadata": {},
     "output_type": "execute_result"
    }
   ],
   "source": [
    "(\n",
    "    df_covid\n",
    "    .select('regiao')\n",
    "    .groupBy('regiao')\n",
    "    .count()\n",
    "    .toPandas()\n",
    ")"
   ]
  },
  {
   "cell_type": "code",
   "execution_count": 24,
   "metadata": {},
   "outputs": [
    {
     "name": "stdout",
     "output_type": "stream",
     "text": [
      "root\n",
      " |-- regiao: string (nullable = true)\n",
      " |-- estado: string (nullable = true)\n",
      " |-- municipio: string (nullable = true)\n",
      " |-- coduf: string (nullable = true)\n",
      " |-- codmun: string (nullable = true)\n",
      " |-- codRegiaoSaude: string (nullable = true)\n",
      " |-- nomeRegiaoSaude: string (nullable = true)\n",
      " |-- data: string (nullable = true)\n",
      " |-- semanaEpi: string (nullable = true)\n",
      " |-- populacaoTCU2019: string (nullable = true)\n",
      " |-- casosAcumulado: string (nullable = true)\n",
      " |-- casosNovos: string (nullable = true)\n",
      " |-- obitosAcumulado: string (nullable = true)\n",
      " |-- obitosNovos: string (nullable = true)\n",
      " |-- Recuperadosnovos: string (nullable = true)\n",
      " |-- emAcompanhamentoNovos: string (nullable = true)\n",
      " |-- interior/metropolitana: string (nullable = true)\n",
      "\n"
     ]
    }
   ],
   "source": [
    "df_covid.printSchema()"
   ]
  },
  {
   "cell_type": "markdown",
   "metadata": {},
   "source": [
    "### 3. Criar as 3 vizualizações pelo Spark com os dados enviados para o HDFS:"
   ]
  },
  {
   "cell_type": "code",
   "execution_count": 94,
   "metadata": {},
   "outputs": [
    {
     "name": "stdout",
     "output_type": "stream",
     "text": [
      "+----------+------------+-------------+\n",
      "|      data|      regiao|count(regiao)|\n",
      "+----------+------------+-------------+\n",
      "|2021-07-06|      Brasil|            1|\n",
      "|2021-07-06|     Sudeste|         1676|\n",
      "|2021-07-06|         Sul|         1197|\n",
      "|2021-07-06|Centro-Oeste|          473|\n",
      "|2021-07-06|    Nordeste|         1812|\n",
      "|2021-07-06|       Norte|          460|\n",
      "+----------+------------+-------------+\n",
      "\n"
     ]
    }
   ],
   "source": [
    "# Visualizando os dados\n",
    "(\n",
    "    df_covid\n",
    "    .groupBy('data', 'regiao')\n",
    "    .agg(count(col('regiao')))\n",
    "    .filter(col('data') == '2021-07-06')\n",
    "    #.orderBy(col('data').desc())\n",
    "    .show(10)\n",
    ")"
   ]
  },
  {
   "cell_type": "markdown",
   "metadata": {},
   "source": [
    "### Cartão 1: Casos Recuperados e Em acompanhamento"
   ]
  },
  {
   "cell_type": "code",
   "execution_count": 149,
   "metadata": {},
   "outputs": [
    {
     "name": "stdout",
     "output_type": "stream",
     "text": [
      "Cartão 1 - Casos Recuperados e Em acompanhamento:\n",
      "+-----------------+-----------------+\n",
      "|Casos Recuperados|Em acompanhamento|\n",
      "+-----------------+-----------------+\n",
      "|         17262646|          1065477|\n",
      "+-----------------+-----------------+\n",
      "\n"
     ]
    }
   ],
   "source": [
    "# Cartão 1: Casos Recuperados e Em acompanhamento\n",
    "# a) Casos Recuperados\n",
    "# b) Em acompanhamento\n",
    "print('Cartão 1 - Casos Recuperados e Em acompanhamento:')\n",
    "\n",
    "df_recuperados_emAcompanhamento = (\n",
    "    df_covid\n",
    "    .select(col('Recuperadosnovos').alias(\"Casos Recuperados\"), col('emAcompanhamentoNovos').alias(\"Em acompanhamento\"))\n",
    "    #.filter((col('data') == '2021-07-06')\n",
    "    .filter(col('regiao') == 'Brasil')\n",
    "    .orderBy(col('data').desc())\n",
    "    .limit(1)\n",
    ")\n",
    "df_recuperados_emAcompanhamento.show()"
   ]
  },
  {
   "cell_type": "markdown",
   "metadata": {},
   "source": [
    "### 4. Salvar a primeira visualização como tabela Hive"
   ]
  },
  {
   "cell_type": "code",
   "execution_count": 154,
   "metadata": {},
   "outputs": [],
   "source": [
    "# Salvando a primeira visualização como tabela Hive\n",
    "(\n",
    "    df_recuperados_emAcompanhamento\n",
    "    .withColumnRenamed('Casos Recuperados', \"casos_recuperados\")\n",
    "    .withColumnRenamed('Em acompanhamento', \"em_acompanhamento\")\n",
    "    .write\n",
    "    .saveAsTable(\"recuperados_acompanhamento\")\n",
    ")"
   ]
  },
  {
   "cell_type": "code",
   "execution_count": 157,
   "metadata": {},
   "outputs": [
    {
     "name": "stdout",
     "output_type": "stream",
     "text": [
      "+-----------------+-----------------+\n",
      "|casos_recuperados|em_acompanhamento|\n",
      "+-----------------+-----------------+\n",
      "|         17262646|          1065477|\n",
      "+-----------------+-----------------+\n",
      "\n"
     ]
    }
   ],
   "source": [
    "spark.read.parquet(\"/user/hive/warehouse/recuperados_acompanhamento/\").show(5)"
   ]
  },
  {
   "cell_type": "markdown",
   "metadata": {},
   "source": [
    "### Cartão 2: Casos confirmados"
   ]
  },
  {
   "cell_type": "code",
   "execution_count": null,
   "metadata": {},
   "outputs": [],
   "source": [
    "# Cartão 2: Casos confirmados\n",
    "# c) Acumulado\n",
    "# d) Casos Novos\n",
    "# e) Incidências"
   ]
  },
  {
   "cell_type": "code",
   "execution_count": 56,
   "metadata": {},
   "outputs": [
    {
     "data": {
      "text/html": [
       "<div>\n",
       "<style scoped>\n",
       "    .dataframe tbody tr th:only-of-type {\n",
       "        vertical-align: middle;\n",
       "    }\n",
       "\n",
       "    .dataframe tbody tr th {\n",
       "        vertical-align: top;\n",
       "    }\n",
       "\n",
       "    .dataframe thead th {\n",
       "        text-align: right;\n",
       "    }\n",
       "</style>\n",
       "<table border=\"1\" class=\"dataframe\">\n",
       "  <thead>\n",
       "    <tr style=\"text-align: right;\">\n",
       "      <th></th>\n",
       "      <th>regiao</th>\n",
       "      <th>estado</th>\n",
       "      <th>municipio</th>\n",
       "      <th>coduf</th>\n",
       "      <th>codmun</th>\n",
       "      <th>codRegiaoSaude</th>\n",
       "      <th>nomeRegiaoSaude</th>\n",
       "      <th>data</th>\n",
       "      <th>semanaEpi</th>\n",
       "      <th>populacaoTCU2019</th>\n",
       "      <th>casosAcumulado</th>\n",
       "      <th>casosNovos</th>\n",
       "      <th>obitosAcumulado</th>\n",
       "      <th>obitosNovos</th>\n",
       "      <th>Recuperadosnovos</th>\n",
       "      <th>emAcompanhamentoNovos</th>\n",
       "      <th>interior/metropolitana</th>\n",
       "    </tr>\n",
       "  </thead>\n",
       "  <tbody>\n",
       "    <tr>\n",
       "      <th>0</th>\n",
       "      <td>Brasil</td>\n",
       "      <td>None</td>\n",
       "      <td>None</td>\n",
       "      <td>76</td>\n",
       "      <td>None</td>\n",
       "      <td>None</td>\n",
       "      <td>None</td>\n",
       "      <td>2021-07-06</td>\n",
       "      <td>27</td>\n",
       "      <td>210147125</td>\n",
       "      <td>18855015</td>\n",
       "      <td>62504</td>\n",
       "      <td>526892</td>\n",
       "      <td>1780</td>\n",
       "      <td>17262646</td>\n",
       "      <td>1065477</td>\n",
       "      <td>None</td>\n",
       "    </tr>\n",
       "  </tbody>\n",
       "</table>\n",
       "</div>"
      ],
      "text/plain": [
       "   regiao estado municipio coduf codmun codRegiaoSaude nomeRegiaoSaude  \\\n",
       "0  Brasil   None      None    76   None           None            None   \n",
       "\n",
       "         data semanaEpi populacaoTCU2019 casosAcumulado casosNovos  \\\n",
       "0  2021-07-06        27        210147125       18855015      62504   \n",
       "\n",
       "  obitosAcumulado obitosNovos Recuperadosnovos emAcompanhamentoNovos  \\\n",
       "0          526892        1780         17262646               1065477   \n",
       "\n",
       "  interior/metropolitana  \n",
       "0                   None  "
      ]
     },
     "execution_count": 56,
     "metadata": {},
     "output_type": "execute_result"
    }
   ],
   "source": [
    "# Verificando os dados\n",
    "(\n",
    "    df_covid\n",
    "    .select('*')\n",
    "    #.select('populacaoTCU2019', 'casosAcumulado', 'data', 'regiao')\n",
    "    #.groupBy('data', 'regiao')\n",
    "    #.agg(count(col('casosNovos')), sum(col('casosNovos')))\n",
    "    .filter(col('data') == '2021-07-06')\n",
    "    .filter(col('regiao') == 'Brasil')\n",
    "    #.orderBy(col('data').desc())\n",
    "    #.show(10)\n",
    "    .toPandas()\n",
    ")"
   ]
  },
  {
   "cell_type": "code",
   "execution_count": 33,
   "metadata": {},
   "outputs": [
    {
     "name": "stdout",
     "output_type": "stream",
     "text": [
      "+--------------+----------+--------+\n",
      "|casosAcumulado|      data|  regiao|\n",
      "+--------------+----------+--------+\n",
      "|        405066|2021-07-06|   Norte|\n",
      "|        322052|2021-07-06|Nordeste|\n",
      "|        557708|2021-07-06|   Norte|\n",
      "|        113758|2021-07-06|   Norte|\n",
      "+--------------+----------+--------+\n",
      "only showing top 4 rows\n",
      "\n"
     ]
    }
   ],
   "source": [
    "df_covid.select('casosAcumulado', 'data', 'regiao').orderBy(col('data').desc()).show(4)"
   ]
  },
  {
   "cell_type": "code",
   "execution_count": 42,
   "metadata": {},
   "outputs": [
    {
     "name": "stdout",
     "output_type": "stream",
     "text": [
      "Cartão 2: Acumulado:\n",
      "+---------+\n",
      "|Acumulado|\n",
      "+---------+\n",
      "| 18855015|\n",
      "+---------+\n",
      "only showing top 1 row\n",
      "\n"
     ]
    }
   ],
   "source": [
    "# c) Acumulado\n",
    "print('Cartão 2 - Acumulado:')\n",
    "(\n",
    "    df_covid\n",
    "    .select(col('casosAcumulado').alias(\"Acumulado\"))\n",
    "    #.filter((col('data') == '2021-07-06')\n",
    "    .filter(col('regiao') == 'Brasil')\n",
    "    .orderBy(col('data').desc())\n",
    "    .show(1)\n",
    ")"
   ]
  },
  {
   "cell_type": "code",
   "execution_count": 50,
   "metadata": {},
   "outputs": [
    {
     "name": "stdout",
     "output_type": "stream",
     "text": [
      "+----------+------------+-----------------+---------------+\n",
      "|      data|      regiao|count(casosNovos)|sum(casosNovos)|\n",
      "+----------+------------+-----------------+---------------+\n",
      "|2021-07-06|      Brasil|                1|        62504.0|\n",
      "|2021-07-06|     Sudeste|             1676|        62182.0|\n",
      "|2021-07-06|         Sul|             1197|        22800.0|\n",
      "|2021-07-06|Centro-Oeste|              473|        11492.0|\n",
      "|2021-07-06|    Nordeste|             1812|        23290.0|\n",
      "|2021-07-06|       Norte|              460|         5244.0|\n",
      "+----------+------------+-----------------+---------------+\n",
      "\n"
     ]
    }
   ],
   "source": [
    "# Verificando os dados Casos Novos\n",
    "(\n",
    "    df_covid\n",
    "    .select('casosNovos', 'data', 'regiao')\n",
    "    .groupBy('data', 'regiao')\n",
    "    .agg(count(col('casosNovos')), sum(col('casosNovos')))\n",
    "    .filter(col('data') == '2021-07-06')\n",
    "    #.orderBy(col('data').desc())\n",
    "    .show(10)\n",
    ")"
   ]
  },
  {
   "cell_type": "code",
   "execution_count": 51,
   "metadata": {},
   "outputs": [
    {
     "name": "stdout",
     "output_type": "stream",
     "text": [
      "Cartão 2 - Casos Novos:\n",
      "+-----------+\n",
      "|Casos Novos|\n",
      "+-----------+\n",
      "|      62504|\n",
      "+-----------+\n",
      "only showing top 1 row\n",
      "\n"
     ]
    }
   ],
   "source": [
    "# d) Casos Novos\n",
    "print('Cartão 2 - Casos Novos:')\n",
    "(\n",
    "    df_covid\n",
    "    .select(col('casosNovos').alias(\"Casos Novos\"))\n",
    "    #.filter((col('data') == '2021-07-06')\n",
    "    .filter(col('regiao') == 'Brasil')\n",
    "    .orderBy(col('data').desc())\n",
    "    .show(1)\n",
    ")"
   ]
  },
  {
   "cell_type": "code",
   "execution_count": 71,
   "metadata": {},
   "outputs": [
    {
     "name": "stdout",
     "output_type": "stream",
     "text": [
      "Cartão 2 - Incidências:\n",
      "+-----------+\n",
      "|Incidências|\n",
      "+-----------+\n",
      "|    8,972.3|\n",
      "+-----------+\n",
      "only showing top 1 row\n",
      "\n"
     ]
    }
   ],
   "source": [
    "# e) Incidências\n",
    "print('Cartão 2 - Incidências:')\n",
    "(\n",
    "    df_covid\n",
    "    .withColumn('Incidências*', format_number(col('casosAcumulado') / (col('populacaoTCU2019') / 100000), 1))\n",
    "    #.withColumn('Incidências', format_number(34011173 / (col('populacaoTCU2019') / 100000), 1))\n",
    "    #.filter((col('data') == '2021-07-06')\n",
    "    .filter(col('regiao') == 'Brasil')\n",
    "    .orderBy(col('data').desc())\n",
    "    .select('Incidências*')\n",
    "    .show(1)\n",
    ")"
   ]
  },
  {
   "cell_type": "code",
   "execution_count": 159,
   "metadata": {},
   "outputs": [
    {
     "name": "stdout",
     "output_type": "stream",
     "text": [
      "+---------+-----------+------------+\n",
      "|Acumulado|Casos Novos|Incidências*|\n",
      "+---------+-----------+------------+\n",
      "| 18855015|      62504|     8,972.3|\n",
      "+---------+-----------+------------+\n",
      "\n"
     ]
    }
   ],
   "source": [
    "df_casos_confirmados = (\n",
    "    df_covid\n",
    "    .withColumn('Incidências*', format_number(col('casosAcumulado') / (col('populacaoTCU2019') / 100000), 1))\n",
    "    .filter(col('regiao') == 'Brasil')\n",
    "    .orderBy(col('data').desc())\n",
    "    .select(col('casosAcumulado').alias(\"Acumulado\"), col('casosNovos').alias(\"Casos Novos\"), 'Incidências*')\n",
    "    .limit(1)\n",
    ")\n",
    "df_casos_confirmados.show()"
   ]
  },
  {
   "cell_type": "markdown",
   "metadata": {},
   "source": [
    "### 5. Salvar a segunda visualização com formato parquet e compressão snappy"
   ]
  },
  {
   "cell_type": "code",
   "execution_count": 166,
   "metadata": {},
   "outputs": [],
   "source": [
    "(\n",
    "    df_casos_confirmados\n",
    "    .withColumnRenamed('Casos Novos', \"casos_novos\")\n",
    "    .write.parquet(\n",
    "        stage_path + '/casos_confirmados', \n",
    "        compression='snappy', \n",
    "        mode=\"overwrite\")\n",
    ")"
   ]
  },
  {
   "cell_type": "code",
   "execution_count": 167,
   "metadata": {},
   "outputs": [
    {
     "name": "stdout",
     "output_type": "stream",
     "text": [
      "+---------+-----------+------------+\n",
      "|Acumulado|casos_novos|Incidências*|\n",
      "+---------+-----------+------------+\n",
      "| 18855015|      62504|     8,972.3|\n",
      "+---------+-----------+------------+\n",
      "\n"
     ]
    }
   ],
   "source": [
    "spark.read.parquet(stage_path + '/casos_confirmados').show()"
   ]
  },
  {
   "cell_type": "markdown",
   "metadata": {},
   "source": [
    "## Cartão 3: Óbitos Confirmados"
   ]
  },
  {
   "cell_type": "code",
   "execution_count": null,
   "metadata": {},
   "outputs": [],
   "source": [
    "# Cartão 3: Óbitos Confirmados\n",
    "# f) Óbitos Acumulados\n",
    "# g) Casos Novos\n",
    "# h) Letalidade\n",
    "# i) Mortalidade*"
   ]
  },
  {
   "cell_type": "code",
   "execution_count": 72,
   "metadata": {},
   "outputs": [
    {
     "name": "stdout",
     "output_type": "stream",
     "text": [
      "Cartão 3: Óbitos Acumulados\n",
      "+-----------------+\n",
      "|Óbitos acumulados|\n",
      "+-----------------+\n",
      "|           526892|\n",
      "+-----------------+\n",
      "only showing top 1 row\n",
      "\n"
     ]
    }
   ],
   "source": [
    "# f) Óbitos Acumulados\n",
    "print('Cartão 3 - Óbitos Confirmados: Óbitos Acumulados')\n",
    "(\n",
    "    df_covid\n",
    "    .select(col('obitosAcumulado').alias(\"Óbitos acumulados\"))\n",
    "    #.filter((col('data') == '2021-07-06')\n",
    "    .filter(col('regiao') == 'Brasil')\n",
    "    .orderBy(col('data').desc())\n",
    "    .show(1)\n",
    ")"
   ]
  },
  {
   "cell_type": "code",
   "execution_count": 73,
   "metadata": {},
   "outputs": [
    {
     "name": "stdout",
     "output_type": "stream",
     "text": [
      "Cartão 3: Casos Novos\n",
      "+-----------+\n",
      "|Casos Novos|\n",
      "+-----------+\n",
      "|       1780|\n",
      "+-----------+\n",
      "only showing top 1 row\n",
      "\n"
     ]
    }
   ],
   "source": [
    "# g) Casos Novos\n",
    "print('Cartão 3 - Óbitos Confirmados: Casos Novos')\n",
    "(\n",
    "    df_covid\n",
    "    .select(col('obitosNovos').alias(\"Casos Novos\"))\n",
    "    #.filter((col('data') == '2021-07-06')\n",
    "    .filter(col('regiao') == 'Brasil')\n",
    "    .orderBy(col('data').desc())\n",
    "    .show(1)\n",
    ")"
   ]
  },
  {
   "cell_type": "code",
   "execution_count": 87,
   "metadata": {},
   "outputs": [
    {
     "name": "stdout",
     "output_type": "stream",
     "text": [
      "Cartão 3 - Óbitos Confirmados: Letalidade\n",
      "+-----------+\n",
      "|Letalidade*|\n",
      "+-----------+\n",
      "|        3 %|\n",
      "+-----------+\n",
      "only showing top 1 row\n",
      "\n"
     ]
    }
   ],
   "source": [
    "# h) Letalidade\n",
    "print('Cartão 3 - Óbitos Confirmados: Letalidade')\n",
    "(\n",
    "    df_covid\n",
    "    .withColumn('Letalidade*', concat( format_number( (col('obitosAcumulado') / (col('casosAcumulado')) * 100), 0), lit(\" %\")) )\n",
    "    #.withColumn('Incidências', format_number(34011173 / (col('populacaoTCU2019') / 100000), 1))\n",
    "    #.filter((col('data') == '2021-07-06')\n",
    "    .filter(col('regiao') == 'Brasil')\n",
    "    .orderBy(col('data').desc())\n",
    "    .select('Letalidade*')\n",
    "    .show(1)\n",
    ")"
   ]
  },
  {
   "cell_type": "code",
   "execution_count": 89,
   "metadata": {},
   "outputs": [
    {
     "name": "stdout",
     "output_type": "stream",
     "text": [
      "Cartão 3 - Óbitos Confirmados: Mortalidade*\n",
      "+------------+\n",
      "|Mortalidade*|\n",
      "+------------+\n",
      "|       250.7|\n",
      "+------------+\n",
      "only showing top 1 row\n",
      "\n"
     ]
    }
   ],
   "source": [
    "# i) Mortalidade*\n",
    "print('Cartão 3 - Óbitos Confirmados: Mortalidade*')\n",
    "(\n",
    "    df_covid\n",
    "    .withColumn('Mortalidade*', format_number(col('obitosAcumulado') / (col('populacaoTCU2019') / 100000), 1))\n",
    "    #.withColumn('Mortalidade*', format_number(679939 / (col('populacaoTCU2019') / 100000), 1))\n",
    "    #.filter((col('data') == '2021-07-06')\n",
    "    .filter(col('regiao') == 'Brasil')\n",
    "    .orderBy(col('data').desc())\n",
    "    .select('Mortalidade*')\n",
    "    .show(1)\n",
    ")"
   ]
  },
  {
   "cell_type": "code",
   "execution_count": 7,
   "metadata": {},
   "outputs": [
    {
     "name": "stdout",
     "output_type": "stream",
     "text": [
      "Cartão 3 - Óbitos Confirmados:\n",
      "+-----------------+-----------+-----------+------------+\n",
      "|Obitos acumulados|Casos Novos|Letalidade*|Mortalidade*|\n",
      "+-----------------+-----------+-----------+------------+\n",
      "|           526892|       1780|        3 %|       250.7|\n",
      "+-----------------+-----------+-----------+------------+\n",
      "\n"
     ]
    }
   ],
   "source": [
    "# Cartão 3: Óbitos Confirmados\n",
    "print('Cartão 3 - Óbitos Confirmados:')\n",
    "df_obitos_confirmados = (\n",
    "    df_covid\n",
    "    .withColumn('Letalidade*', concat( format_number( (col('obitosAcumulado') / (col('casosAcumulado')) * 100), 0), lit(\" %\")) )\n",
    "    .withColumn('Mortalidade*', format_number(col('obitosAcumulado') / (col('populacaoTCU2019') / 100000), 1)) \n",
    "    .filter(col('regiao') == 'Brasil')\n",
    "    .orderBy(col('data').desc())\n",
    "    .select(col('obitosAcumulado').alias(\"Obitos acumulados\"), col('obitosNovos').alias(\"Casos Novos\"), 'Letalidade*', 'Mortalidade*')\n",
    "    .limit(1)\n",
    ")\n",
    "df_obitos_confirmados.show()"
   ]
  },
  {
   "cell_type": "code",
   "execution_count": 8,
   "metadata": {},
   "outputs": [],
   "source": [
    "(\n",
    "    df_obitos_confirmados\n",
    "    .withColumnRenamed('Obitos acumulados', \"obitos_acumulados\")\n",
    "    .withColumnRenamed('Casos Novos', \"casos_novos\")\n",
    "    .write.mode('overwrite')\n",
    "    .option(\"header\",True)\n",
    "    .option(\"delimiter\",\";\")\n",
    "    .format('csv')\n",
    "    .save(stage_path + '/obitos_confirmados')\n",
    ")"
   ]
  },
  {
   "cell_type": "markdown",
   "metadata": {},
   "source": [
    "### 6. Salvar a terceira visualização em um tópico no Kafka"
   ]
  },
  {
   "cell_type": "code",
   "execution_count": 9,
   "metadata": {},
   "outputs": [
    {
     "name": "stdout",
     "output_type": "stream",
     "text": [
      "+-----------------+-----------+-----------+------------+\n",
      "|obitos_acumulados|casos_novos|Letalidade*|Mortalidade*|\n",
      "+-----------------+-----------+-----------+------------+\n",
      "|           526892|       1780|        3 %|       250.7|\n",
      "+-----------------+-----------+-----------+------------+\n",
      "\n"
     ]
    }
   ],
   "source": [
    "spark.read.csv(stage_path + '/obitos_confirmados', header=True, sep=\";\").show()\n",
    "#spark.read.csv(stage_path + '/obitos_confirmados').show()\n",
    "#.options(header=True, inferSchema=True, delimiter=\";\", encoding='UTF-8'), encoding='UTF-8'"
   ]
  },
  {
   "cell_type": "code",
   "execution_count": 202,
   "metadata": {},
   "outputs": [],
   "source": [
    "schema = 'obitos_acumulados STRING, casos_novos STRING, Letalidade* STRING, Mortalidade* STRING'"
   ]
  },
  {
   "cell_type": "code",
   "execution_count": 204,
   "metadata": {},
   "outputs": [],
   "source": [
    "schema = StructType()\\\n",
    "    .add(\"obitos_acumulados\", \"string\")\\\n",
    "    .add(\"casos_novos\", \"string\")\\\n",
    "    .add(\"Letalidade*\", \"string\")\\\n",
    "    .add(\"Mortalidade\", \"string\")\\"
   ]
  },
  {
   "cell_type": "code",
   "execution_count": 205,
   "metadata": {},
   "outputs": [],
   "source": [
    "df_topic_obitos = spark.readStream.schema(schema).csv(stage_path + '/obitos_confirmados/*.csv')"
   ]
  },
  {
   "cell_type": "code",
   "execution_count": 209,
   "metadata": {},
   "outputs": [
    {
     "data": {
      "text/plain": [
       "<pyspark.sql.streaming.StreamingQuery at 0x7fe48dc79630>"
      ]
     },
     "execution_count": 209,
     "metadata": {},
     "output_type": "execute_result"
    }
   ],
   "source": [
    "# Salvando a terceira visualização em um tópico no Kafka\n",
    "(\n",
    "    df_topic_obitos\n",
    "    .writeStream\n",
    "    .format(\"kafka\")\n",
    "    .option(\"kafka.bootstrap.servers\", \"kafka:9092\")\n",
    "    .option(\"topic\", \"topic-obitos-output\")\n",
    "    .option(\"checkpointLocation\", \"/user/elvis/projeto-covid/kafka/kafka_checkpoint\")\n",
    "    .start() \n",
    ")"
   ]
  },
  {
   "cell_type": "code",
   "execution_count": 210,
   "metadata": {},
   "outputs": [
    {
     "name": "stdout",
     "output_type": "stream",
     "text": [
      "Found 4 items\n",
      "drwxr-xr-x   - root supergroup          0 2022-08-08 02:06 /user/elvis/projeto-covid/kafka/kafka_checkpoint/commits\n",
      "-rw-r--r--   3 root supergroup         45 2022-08-08 02:06 /user/elvis/projeto-covid/kafka/kafka_checkpoint/metadata\n",
      "drwxr-xr-x   - root supergroup          0 2022-08-08 02:06 /user/elvis/projeto-covid/kafka/kafka_checkpoint/offsets\n",
      "drwxr-xr-x   - root supergroup          0 2022-08-08 02:06 /user/elvis/projeto-covid/kafka/kafka_checkpoint/sources\n"
     ]
    }
   ],
   "source": [
    "!hdfs dfs -ls /user/elvis/projeto-covid/kafka/kafka_checkpoint"
   ]
  },
  {
   "cell_type": "markdown",
   "metadata": {},
   "source": [
    "### 7. Criar a visualização pelo Spark com os dados enviados para o HDFS:"
   ]
  },
  {
   "cell_type": "code",
   "execution_count": 98,
   "metadata": {},
   "outputs": [
    {
     "data": {
      "text/html": [
       "<div>\n",
       "<style scoped>\n",
       "    .dataframe tbody tr th:only-of-type {\n",
       "        vertical-align: middle;\n",
       "    }\n",
       "\n",
       "    .dataframe tbody tr th {\n",
       "        vertical-align: top;\n",
       "    }\n",
       "\n",
       "    .dataframe thead th {\n",
       "        text-align: right;\n",
       "    }\n",
       "</style>\n",
       "<table border=\"1\" class=\"dataframe\">\n",
       "  <thead>\n",
       "    <tr style=\"text-align: right;\">\n",
       "      <th></th>\n",
       "      <th>regiao</th>\n",
       "      <th>Casos</th>\n",
       "      <th>Óbitos</th>\n",
       "      <th>Incidência/100mil hab.</th>\n",
       "      <th>Mortalidade/100mil hab</th>\n",
       "    </tr>\n",
       "  </thead>\n",
       "  <tbody>\n",
       "    <tr>\n",
       "      <th>0</th>\n",
       "      <td>Norte</td>\n",
       "      <td>3,465,630</td>\n",
       "      <td>87,690</td>\n",
       "      <td>9,401.6</td>\n",
       "      <td>237.9</td>\n",
       "    </tr>\n",
       "    <tr>\n",
       "      <th>1</th>\n",
       "      <td>Nordeste</td>\n",
       "      <td>8,911,474</td>\n",
       "      <td>215,648</td>\n",
       "      <td>7,807.3</td>\n",
       "      <td>188.9</td>\n",
       "    </tr>\n",
       "    <tr>\n",
       "      <th>2</th>\n",
       "      <td>Centro-Oeste</td>\n",
       "      <td>3,833,238</td>\n",
       "      <td>98,414</td>\n",
       "      <td>11,760.5</td>\n",
       "      <td>301.9</td>\n",
       "    </tr>\n",
       "    <tr>\n",
       "      <th>3</th>\n",
       "      <td>Sudeste</td>\n",
       "      <td>14,277,606</td>\n",
       "      <td>490,622</td>\n",
       "      <td>8,078.2</td>\n",
       "      <td>277.6</td>\n",
       "    </tr>\n",
       "    <tr>\n",
       "      <th>4</th>\n",
       "      <td>Sul</td>\n",
       "      <td>7,222,082</td>\n",
       "      <td>161,410</td>\n",
       "      <td>12,046.4</td>\n",
       "      <td>269.2</td>\n",
       "    </tr>\n",
       "    <tr>\n",
       "      <th>5</th>\n",
       "      <td>Brasil</td>\n",
       "      <td>18,855,015</td>\n",
       "      <td>526,892</td>\n",
       "      <td>8,972.3</td>\n",
       "      <td>250.7</td>\n",
       "    </tr>\n",
       "  </tbody>\n",
       "</table>\n",
       "</div>"
      ],
      "text/plain": [
       "         regiao       Casos   Óbitos Incidência/100mil hab.  \\\n",
       "0         Norte   3,465,630   87,690                9,401.6   \n",
       "1      Nordeste   8,911,474  215,648                7,807.3   \n",
       "2  Centro-Oeste   3,833,238   98,414               11,760.5   \n",
       "3       Sudeste  14,277,606  490,622                8,078.2   \n",
       "4           Sul   7,222,082  161,410               12,046.4   \n",
       "5        Brasil  18,855,015  526,892                8,972.3   \n",
       "\n",
       "  Mortalidade/100mil hab  \n",
       "0                  237.9  \n",
       "1                  188.9  \n",
       "2                  301.9  \n",
       "3                  277.6  \n",
       "4                  269.2  \n",
       "5                  250.7  "
      ]
     },
     "execution_count": 98,
     "metadata": {},
     "output_type": "execute_result"
    }
   ],
   "source": [
    "# Criando a visualização pelo Spark com os dados enviados para o HDFS:\n",
    "(\n",
    "    df_covid\n",
    "    .groupBy('regiao', 'data')\n",
    "    .agg(\n",
    "        format_number(sum(col('casosAcumulado')), 0).alias(\"Casos\"), \n",
    "        format_number(sum(col('obitosAcumulado')), 0).alias(\"Óbitos\"),\n",
    "        format_number(sum(col('casosAcumulado')) / (sum(col('populacaoTCU2019')) / 100000), 1).alias('incidencia'),\n",
    "        format_number(sum(col('obitosAcumulado')) / (sum(col('populacaoTCU2019')) / 100000), 1).alias('mortalidade')\n",
    "    )\n",
    "    .orderBy(col('data').desc())\n",
    "    .select('regiao', \"Casos\", \"Óbitos\", col('incidencia').alias(\"Incidência/100mil hab.\"), col('mortalidade').alias('Mortalidade/100mil hab'))\n",
    "    .limit(6)\n",
    "    .toPandas()\n",
    ")"
   ]
  },
  {
   "cell_type": "code",
   "execution_count": null,
   "metadata": {},
   "outputs": [],
   "source": []
  },
  {
   "cell_type": "code",
   "execution_count": 211,
   "metadata": {},
   "outputs": [
    {
     "data": {
      "text/plain": [
       "['regiao',\n",
       " 'estado',\n",
       " 'municipio',\n",
       " 'coduf',\n",
       " 'codmun',\n",
       " 'codRegiaoSaude',\n",
       " 'nomeRegiaoSaude',\n",
       " 'data',\n",
       " 'semanaEpi',\n",
       " 'populacaoTCU2019',\n",
       " 'casosAcumulado',\n",
       " 'casosNovos',\n",
       " 'obitosAcumulado',\n",
       " 'obitosNovos',\n",
       " 'Recuperadosnovos',\n",
       " 'emAcompanhamentoNovos',\n",
       " 'interior/metropolitana']"
      ]
     },
     "execution_count": 211,
     "metadata": {},
     "output_type": "execute_result"
    }
   ],
   "source": [
    "df_covid.columns"
   ]
  },
  {
   "cell_type": "code",
   "execution_count": null,
   "metadata": {},
   "outputs": [],
   "source": []
  }
 ],
 "metadata": {
  "kernelspec": {
   "display_name": "PySpark",
   "language": "python",
   "name": "pyspark"
  },
  "language_info": {
   "codemirror_mode": {
    "name": "ipython",
    "version": 3
   },
   "file_extension": ".py",
   "mimetype": "text/x-python",
   "name": "python",
   "nbconvert_exporter": "python",
   "pygments_lexer": "ipython3",
   "version": "3.6.10"
  }
 },
 "nbformat": 4,
 "nbformat_minor": 2
}
